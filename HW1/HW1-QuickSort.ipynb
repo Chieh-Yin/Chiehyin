{
 "cells": [
  {
   "cell_type": "markdown",
   "metadata": {},
   "source": [
    "一開始在紙上自己畫了一次QuickSort跑的流程，\n",
    "我發現這段程式會需要三個List去裝比基準點大的數、比基準點小的數、以及基準點；\n",
    "還有QuickSort要可以做排序比較的條件長度是一定要大於1。\n",
    "(所以我開始打程式~)\n",
    "首先，我定義了一個函數叫做QuickSort，並建了三個List要裝比較過後的數。\n",
    "如果輸入的長度不大於1，則return；如果大於1，就可以進入迴圈去做比較，\n",
    "倘若:\n",
    "    大於被拿來當比較的數的話，則放到右側的List裡面；\n",
    "    小於被拿來當比較的數的話，則放到左側的List裡面；\n",
    "    等於被拿來當比較的數的話，則跟被比較的那個數一起放到中間的List裡面。\n",
    "直到比完所有List後，才停止。"
   ]
  },
  {
   "cell_type": "code",
   "execution_count": 4,
   "metadata": {},
   "outputs": [],
   "source": [
    "def QuickSort (list):\n",
    "    LeftSide = []\n",
    "    RightSide = []\n",
    "    Compare = []\n",
    "    #建立三個List\n",
    "\n",
    "    if len(list) <= 1:\n",
    "        return list\n",
    "    #當List不符合可以做QuickSort條件時，直接return\n",
    "\n",
    "    else:\n",
    "        Last = list[-1]\n",
    "        for i in list:\n",
    "            if i < Last:\n",
    "                LeftSide.append(i)\n",
    "            #小於被拿來當比較的數的話，則放到左側的List裡面\n",
    "            elif i > Last:\n",
    "                RightSide.append(i)\n",
    "            #大於被拿來當比較的數的話，則放到右側的List裡面\n",
    "            else:\n",
    "                Compare.append(i)\n",
    "            #等於被拿來當比較的數的話，則跟被比較的那個數一起放到中間的List裡面\n",
    "\n",
    "    LeftSide = QuickSort(LeftSide)\n",
    "    RightSide = QuickSort(RightSide)\n",
    "    #當左右兩邊的List還沒被比較完，就要再跑一次上面的for迴圈去做排列\n",
    "    return LeftSide + Compare + RightSide\n",
    "    #最後回傳比較完的結果:左側的List+拿來比較的數的List+右側的List"
   ]
  },
  {
   "cell_type": "code",
   "execution_count": 6,
   "metadata": {},
   "outputs": [
    {
     "data": {
      "text/plain": [
       "[1, 4, 5, 6, 8]"
      ]
     },
     "execution_count": 6,
     "metadata": {},
     "output_type": "execute_result"
    }
   ],
   "source": [
    "test = QuickSort\n",
    "x = [8,4,5,1,6]\n",
    "test(x)"
   ]
  },
  {
   "cell_type": "markdown",
   "metadata": {},
   "source": [
    "QUickSort時間複雜度:(n為資料筆數)\n",
    "                \n",
    "    Best Time          O(nlogn)\n",
    "    Average Time       O(nlogn)\n",
    "    Worst Time         O(n^2)"
   ]
  }
 ],
 "metadata": {
  "kernelspec": {
   "display_name": "Python 3",
   "language": "python",
   "name": "python3"
  },
  "language_info": {
   "codemirror_mode": {
    "name": "ipython",
    "version": 3
   },
   "file_extension": ".py",
   "mimetype": "text/x-python",
   "name": "python",
   "nbconvert_exporter": "python",
   "pygments_lexer": "ipython3",
   "version": "3.6.4"
  }
 },
 "nbformat": 4,
 "nbformat_minor": 2
}
